{
 "cells": [
  {
   "cell_type": "code",
   "execution_count": 2,
   "metadata": {},
   "outputs": [
    {
     "ename": "NameError",
     "evalue": "name 'transforms' is not defined",
     "output_type": "error",
     "traceback": [
      "\u001b[0;31m---------------------------------------------------------------------------\u001b[0m",
      "\u001b[0;31mNameError\u001b[0m                                 Traceback (most recent call last)",
      "\u001b[0;32m<ipython-input-2-3296a093153a>\u001b[0m in \u001b[0;36m<module>\u001b[0;34m\u001b[0m\n\u001b[1;32m      5\u001b[0m     \u001b[0mlabel_to_classname\u001b[0m \u001b[0;34m=\u001b[0m \u001b[0;34m(\u001b[0m\u001b[0meval\u001b[0m\u001b[0;34m(\u001b[0m\u001b[0mf\u001b[0m\u001b[0;34m.\u001b[0m\u001b[0mread\u001b[0m\u001b[0;34m(\u001b[0m\u001b[0;34m)\u001b[0m\u001b[0;34m)\u001b[0m\u001b[0;34m)\u001b[0m\u001b[0;34m\u001b[0m\u001b[0;34m\u001b[0m\u001b[0m\n\u001b[1;32m      6\u001b[0m \u001b[0;34m\u001b[0m\u001b[0m\n\u001b[0;32m----> 7\u001b[0;31m trans = transforms.Compose([transforms.Resize((227, 227), interpolation=PIL.Image.BICUBIC),\n\u001b[0m\u001b[1;32m      8\u001b[0m                             transforms.ToTensor()])\n\u001b[1;32m      9\u001b[0m \u001b[0;34m\u001b[0m\u001b[0m\n",
      "\u001b[0;31mNameError\u001b[0m: name 'transforms' is not defined"
     ]
    }
   ],
   "source": [
    "with open(\"./index_to_class.txt\", \"r\") as f:\n",
    "    index_to_class = eval(f.read())\n",
    "    \n",
    "with open(\"label_to_classname.txt\", \"r\", encoding = \"utf-8\") as f:\n",
    "    label_to_classname = (eval(f.read()))\n",
    "    \n",
    "trans = transforms.Compose([transforms.Resize((227, 227), interpolation=PIL.Image.BICUBIC),\n",
    "                            transforms.ToTensor()])\n",
    "\n",
    "\n",
    "def acquire_task(image_list, per_group_num = 80):\n",
    "    '''\n",
    "        image_list: list of the image paths\n",
    "        ratio: rough number of images for each group, subgroup num = total_num // ratio\n",
    "    '''\n",
    "    subgroups = list_split(image_list, per_group_num = per_group_num)\n",
    "    batch_list = []\n",
    "    for group in subgroups:\n",
    "        temp_batch = []\n",
    "        temp_labels = []\n",
    "        for path in group:\n",
    "            label = path.parts[-2]\n",
    "            image = trans(Image.open(path)).unsqueeze(0)\n",
    "            temp_batch.append(image)\n",
    "            temp_labels.append(label)\n",
    "        batch_list.append([temp_batch, temp_labels])\n",
    "    return batch_list\n",
    "\n",
    "def batch_predict(model, image_set, per_group_num = 80):\n",
    "    model.eval()\n",
    "    \n",
    "    y_true, y_pred = [], []\n",
    "    batch_list = acquire_task(image_set, per_group_num = per_group_num)\n",
    "    \n",
    "    for batch, labels in tqdm(batch_list):\n",
    "        y_true.extend(labels)\n",
    "        batch_input = torch.cat(batch,0)\n",
    "        \n",
    "        with torch.no_grad():\n",
    "            batch_out = model(batch_input.cuda(device = 0))\n",
    "            probs, pred_labels = torch.max(batch_out.data,1)\n",
    "            y_pred.extend([index_to_class[int(i)] for i in pred_labels.cpu()])\n",
    "            \n",
    "    return y_true, y_pred\n",
    "\n",
    "\n",
    "def predict(model, input_image, top = 3):\n",
    "    \n",
    "    y_true = input_image.parts[-2]\n",
    "    \n",
    "    model.eval()\n",
    "    image = trans(Image.open(input_image)).unsqueeze(0)\n",
    "\n",
    "    with torch.no_grad():\n",
    "        score = model(image.cuda(device = 0))\n",
    "        probs = nn.functional.softmax(score, dim=1).cpu()\n",
    "        \n",
    "        top_n_results = []\n",
    "        for i in range(top):\n",
    "            prob, pred_label = torch.max(probs, 1)\n",
    "            top_n_results.append([round(float(prob),4), int(pred_label)])\n",
    "            probs[0, pred_label] = -1\n",
    "    \n",
    "    return y_true, top_n_results\n",
    "    \n",
    "                    \n",
    "\n",
    "def performance(y_true, y_pred, title = \"TOP-N\"):\n",
    "    print(f\"{title} performance : \")\n",
    "    metrics = [overall_accuracy, mean_accuracy, overall_prec, mean_prec, mean_recall]\n",
    "    prefix  = [\"overall acc\", \"mean acc\", \"overall prec\", \"mean prec\", \"mean recall\"]\n",
    "    for describe, metric in zip(prefix, metrics):\n",
    "        print(f\"  {describe.ljust(15)} : {metric(y_true, y_pred):.4f}\")\n",
    "    "
   ]
  },
  {
   "cell_type": "code",
   "execution_count": null,
   "metadata": {},
   "outputs": [],
   "source": []
  }
 ],
 "metadata": {
  "kernelspec": {
   "display_name": "Python 3",
   "language": "python",
   "name": "python3"
  },
  "language_info": {
   "codemirror_mode": {
    "name": "ipython",
    "version": 3
   },
   "file_extension": ".py",
   "mimetype": "text/x-python",
   "name": "python",
   "nbconvert_exporter": "python",
   "pygments_lexer": "ipython3",
   "version": "3.6.9"
  }
 },
 "nbformat": 4,
 "nbformat_minor": 4
}
