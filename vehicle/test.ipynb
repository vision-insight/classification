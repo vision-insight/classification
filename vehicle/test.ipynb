{
 "cells": [
  {
   "cell_type": "code",
   "execution_count": 23,
   "metadata": {},
   "outputs": [],
   "source": [
    "import os\n",
    "import sys\n",
    "import  numpy as np\n",
    "from tqdm import tqdm\n",
    "# from data_prepare_old import *\n",
    "from sklearn.metrics import accuracy_score\n",
    "from sklearn.metrics import classification_report\n",
    "from torchvision import datasets, models, transforms\n",
    "\n",
    "import collections\n",
    "from torch import nn\n",
    "from pathlib import Path\n",
    "import PIL\n",
    "\n",
    "base_path = \"/data/lulei/classification\"\n",
    "sys.path.insert(0, base_path)\n",
    "from tools.metrics import *\n",
    "from tools.utils.utils import *\n",
    "from tools.utils.model_zoo import MODELS\n",
    "from tools.utils.torch_utils import *\n",
    "\n",
    "import matplotlib.pyplot as plt\n",
    "\n",
    "import warnings\n",
    "# warnings.filterwarnings(\"ignore\")\n",
    "\n",
    "\n",
    "%run lib.ipynb"
   ]
  },
  {
   "cell_type": "markdown",
   "metadata": {},
   "source": [
    "### 本脚本的目的：\n",
    "- 将训练集和测试集的图片均用于测试\n",
    "- 按照类别样本数的多少，取TOP-N和Bottom-N的类别用于测试\n",
    "- 测试并展示错误分类"
   ]
  },
  {
   "cell_type": "code",
   "execution_count": null,
   "metadata": {},
   "outputs": [],
   "source": []
  },
  {
   "cell_type": "markdown",
   "metadata": {},
   "source": [
    "- 测试集和训练集地址"
   ]
  },
  {
   "cell_type": "code",
   "execution_count": 2,
   "metadata": {},
   "outputs": [],
   "source": [
    "test_dir = \"/data/lulei/data/vehicle/frontal_103/split/test\"\n",
    "valid_dir = \"/data/lulei/data/vehicle/frontal_103/split/valid\""
   ]
  },
  {
   "cell_type": "markdown",
   "metadata": {},
   "source": [
    "- 获取所有图片，并按样本数量的多少对所有类别进行排序"
   ]
  },
  {
   "cell_type": "code",
   "execution_count": 3,
   "metadata": {},
   "outputs": [
    {
     "name": "stdout",
     "output_type": "stream",
     "text": [
      "[INFO] total image num : 32,711\n",
      "[INFO] class num : 1,759\n"
     ]
    }
   ],
   "source": [
    "image_paths = [i for i in Path(test_dir).rglob(\"*.jpg\") ] + [i for i in Path(valid_dir).rglob(\"*.jpg\")]\n",
    "print(f\"[INFO] total image num : {len(image_paths):,}\")\n",
    "\n",
    "class_num = {}\n",
    "for i in image_paths:\n",
    "    label = i.parts[-2]\n",
    "    if label in class_num:\n",
    "        class_num[label] += 1\n",
    "    else:\n",
    "        class_num.update({label: 1})\n",
    "\n",
    "class_num = sorted(class_num.items(), key = lambda kv:(kv[1], int(kv[0])), reverse = True)\n",
    "\n",
    "print(f\"[INFO] class num : {len(class_num):,}\")"
   ]
  },
  {
   "cell_type": "markdown",
   "metadata": {},
   "source": [
    "- 获取TOP-N和Bottom-N类别"
   ]
  },
  {
   "cell_type": "code",
   "execution_count": 4,
   "metadata": {},
   "outputs": [],
   "source": [
    "N = 20"
   ]
  },
  {
   "cell_type": "code",
   "execution_count": 5,
   "metadata": {},
   "outputs": [
    {
     "name": "stdout",
     "output_type": "stream",
     "text": [
      "[INFO] top 20 classes, image num : 2632\n",
      "[INFO] bot 20 classes, image num : 80\n"
     ]
    }
   ],
   "source": [
    "top_n_classes = [i[0] for i in class_num[:N]]\n",
    "bot_n_classes = [i[0] for i in class_num[-N:]]\n",
    "\n",
    "top_n_images = [ i for i in image_paths if i.parts[-2] in top_n_classes]\n",
    "bot_n_images = [ i for i in image_paths if i.parts[-2] in bot_n_classes]\n",
    "\n",
    "# print(top_n_classes)\n",
    "# print(bot_n_classes)\n",
    "\n",
    "print(f\"[INFO] top {N} classes, image num : {len(top_n_images)}\")\n",
    "print(f\"[INFO] bot {N} classes, image num : {len(bot_n_images)}\")"
   ]
  },
  {
   "cell_type": "markdown",
   "metadata": {},
   "source": [
    "- 选择并加载神经网络模型"
   ]
  },
  {
   "cell_type": "code",
   "execution_count": 6,
   "metadata": {},
   "outputs": [
    {
     "name": "stdout",
     "output_type": "stream",
     "text": [
      "[INFO] weight files : \n",
      "  [0] vehicle_resnet50_0.9182_49_best_20191224_142352.pth\n",
      "  [1] vehicle_resnet18_0.9017_26_best_20191224_124247.pth\n",
      "  [2] vehicle_densenet121_0.9182_40_best_20191224_113211.pth\n",
      "  [3] vehicle_alexnet_0.8711_33_best_20191223_234904.pth\n",
      "  [4] vehicle_vgg16_0.9128_30_best_20191224_173140.pth\n",
      "  [5] vehicle_vgg19_0.9190_24_best_20191224_204329.pth\n"
     ]
    },
    {
     "name": "stdin",
     "output_type": "stream",
     "text": [
      "  your choice :  4\n"
     ]
    },
    {
     "name": "stdout",
     "output_type": "stream",
     "text": [
      "3\n"
     ]
    }
   ],
   "source": [
    "weight_files = [i for i in pathlib.Path(\"./output_models\").rglob(\"*.pth\")]\n",
    "print(f\"[INFO] weight files : \")\n",
    "\n",
    "for index, weight_file in enumerate(weight_files):\n",
    "    print(f\"  [{index}] {weight_file.name}\")\n",
    "weight_file = weight_files[int(input(\"  your choice : \"))]\n",
    "\n",
    "network = os.path.basename(weight_file).split(\"_\")[1]\n",
    "\n",
    "# networks = [\"alexnet\", \"densenet121\", \"resnet18\", \"resnet34\", \"resnet50\", \"vgg16\", \"vgg19\"]\n",
    "\n",
    "model_struc = eval(f\"MODELS(class_num = 1759, with_wts = False).{network}()\")\n",
    "model = load_model_from_wts(model_struc, weight_file, gpu_id = [0,1])"
   ]
  },
  {
   "cell_type": "code",
   "execution_count": 7,
   "metadata": {},
   "outputs": [
    {
     "name": "stderr",
     "output_type": "stream",
     "text": [
      "100%|██████████| 27/27 [00:09<00:00,  2.96it/s]"
     ]
    },
    {
     "name": "stdout",
     "output_type": "stream",
     "text": [
      "TOP-N performance : \n",
      "  overall acc     : 0.9434\n",
      "  mean acc        : 0.9968\n",
      "  overall prec    : 0.9434\n",
      "  mean prec       : 0.9929\n",
      "  mean recall     : 0.9523\n"
     ]
    },
    {
     "name": "stderr",
     "output_type": "stream",
     "text": [
      "\n"
     ]
    }
   ],
   "source": [
    "y_true, y_pred = batch_predict(model, top_n_images, per_group_num = 100)\n",
    "performance(y_true, y_pred, title = \"TOP-N\")"
   ]
  },
  {
   "cell_type": "raw",
   "metadata": {},
   "source": [
    "print(f\"overall acc : {sum([1 for i, j in zip(y_true, y_pred) if i == j])/len(y_true):.4f}\")\n",
    "print(f\"per-class prec: {sum([1 for i, j in zip(y_true, y_pred) if j == i == '895']) / y_pred.count('895') :.4f}\")\n",
    "print(f\"per-class prec: {sum([1 for i, j in zip(y_true, y_pred) if j == i == '968']) / y_pred.count('968') :.4f}\")\n",
    "print(f\"per-class recall: {sum([1 for i, j in zip(y_true, y_pred) if j == i == '895']) / y_true.count('895') :.4f}\")\n",
    "print(f\"per-class prec: {sum([1 for i, j in zip(y_true, y_pred) if j == i == '968']) / y_pred.count('968') :.4f}\")"
   ]
  },
  {
   "cell_type": "code",
   "execution_count": 8,
   "metadata": {},
   "outputs": [
    {
     "name": "stderr",
     "output_type": "stream",
     "text": [
      "100%|██████████| 40/40 [00:04<00:00,  9.55it/s]"
     ]
    },
    {
     "name": "stdout",
     "output_type": "stream",
     "text": [
      "BOT-N performance : \n",
      "  overall acc     : 0.8875\n",
      "  mean acc        : 0.9944\n",
      "  overall prec    : 0.8875\n",
      "  mean prec       : 1.0000\n",
      "  mean recall     : 0.8875\n"
     ]
    },
    {
     "name": "stderr",
     "output_type": "stream",
     "text": [
      "\n"
     ]
    }
   ],
   "source": [
    "y_true, y_pred = batch_predict(model, bot_n_images, per_group_num = 2)\n",
    "performance(y_true, y_pred, title = \"BOT-N\")"
   ]
  },
  {
   "cell_type": "code",
   "execution_count": null,
   "metadata": {},
   "outputs": [],
   "source": []
  },
  {
   "cell_type": "markdown",
   "metadata": {},
   "source": [
    "- 随机选择一张图片用作测试"
   ]
  },
  {
   "cell_type": "code",
   "execution_count": 19,
   "metadata": {},
   "outputs": [],
   "source": [
    "y_true, top_n_results = predict(model,image_paths[0], top = 5)"
   ]
  },
  {
   "cell_type": "code",
   "execution_count": 20,
   "metadata": {},
   "outputs": [
    {
     "data": {
      "text/plain": [
       "[[1.0, 798], [0.0, 780], [0.0, 0], [0.0, 1632], [0.0, 1049]]"
      ]
     },
     "execution_count": 20,
     "metadata": {},
     "output_type": "execute_result"
    }
   ],
   "source": [
    "top_n_results"
   ]
  },
  {
   "cell_type": "code",
   "execution_count": 21,
   "metadata": {},
   "outputs": [
    {
     "ename": "NameError",
     "evalue": "name 'plt' is not defined",
     "output_type": "error",
     "traceback": [
      "\u001b[0;31m---------------------------------------------------------------------------\u001b[0m",
      "\u001b[0;31mNameError\u001b[0m                                 Traceback (most recent call last)",
      "\u001b[0;32m<ipython-input-21-6eb835cec10b>\u001b[0m in \u001b[0;36m<module>\u001b[0;34m\u001b[0m\n\u001b[1;32m      1\u001b[0m \u001b[0mindex\u001b[0m \u001b[0;34m=\u001b[0m \u001b[0;34m[\u001b[0m\u001b[0;36m0\u001b[0m\u001b[0;34m,\u001b[0m\u001b[0;36m1\u001b[0m\u001b[0;34m,\u001b[0m\u001b[0;36m2\u001b[0m\u001b[0;34m,\u001b[0m\u001b[0;36m3\u001b[0m\u001b[0;34m,\u001b[0m\u001b[0;36m4\u001b[0m\u001b[0;34m]\u001b[0m\u001b[0;34m\u001b[0m\u001b[0;34m\u001b[0m\u001b[0m\n\u001b[1;32m      2\u001b[0m \u001b[0mvalues\u001b[0m \u001b[0;34m=\u001b[0m \u001b[0;34m[\u001b[0m\u001b[0;36m5\u001b[0m\u001b[0;34m,\u001b[0m\u001b[0;36m6\u001b[0m\u001b[0;34m,\u001b[0m\u001b[0;36m7\u001b[0m\u001b[0;34m,\u001b[0m\u001b[0;36m8\u001b[0m\u001b[0;34m,\u001b[0m\u001b[0;36m9\u001b[0m\u001b[0;34m]\u001b[0m\u001b[0;34m\u001b[0m\u001b[0;34m\u001b[0m\u001b[0m\n\u001b[0;32m----> 3\u001b[0;31m \u001b[0mplt\u001b[0m\u001b[0;34m.\u001b[0m\u001b[0mbar\u001b[0m\u001b[0;34m(\u001b[0m\u001b[0mindex\u001b[0m\u001b[0;34m,\u001b[0m \u001b[0mvalues\u001b[0m\u001b[0;34m)\u001b[0m\u001b[0;34m\u001b[0m\u001b[0;34m\u001b[0m\u001b[0m\n\u001b[0m\u001b[1;32m      4\u001b[0m \u001b[0mplt\u001b[0m\u001b[0;34m.\u001b[0m\u001b[0mxticks\u001b[0m\u001b[0;34m(\u001b[0m\u001b[0mindex\u001b[0m\u001b[0;34m,\u001b[0m\u001b[0;34m[\u001b[0m\u001b[0;34m'A'\u001b[0m\u001b[0;34m,\u001b[0m\u001b[0;34m'B'\u001b[0m\u001b[0;34m,\u001b[0m\u001b[0;34m'C'\u001b[0m\u001b[0;34m,\u001b[0m\u001b[0;34m'D'\u001b[0m\u001b[0;34m,\u001b[0m\u001b[0;34m'E'\u001b[0m\u001b[0;34m]\u001b[0m\u001b[0;34m)\u001b[0m\u001b[0;34m\u001b[0m\u001b[0;34m\u001b[0m\u001b[0m\n\u001b[1;32m      5\u001b[0m \u001b[0mplt\u001b[0m\u001b[0;34m.\u001b[0m\u001b[0mshow\u001b[0m\u001b[0;34m(\u001b[0m\u001b[0;34m)\u001b[0m\u001b[0;34m\u001b[0m\u001b[0;34m\u001b[0m\u001b[0m\n",
      "\u001b[0;31mNameError\u001b[0m: name 'plt' is not defined"
     ]
    }
   ],
   "source": [
    "index = [0,1,2,3,4]\n",
    "values = [5,6,7,8,9]\n",
    "plt.bar(index, values)\n",
    "plt.xticks(index,['A','B','C','D','E'])\n",
    "plt.show()"
   ]
  },
  {
   "cell_type": "code",
   "execution_count": null,
   "metadata": {},
   "outputs": [],
   "source": []
  },
  {
   "cell_type": "code",
   "execution_count": null,
   "metadata": {},
   "outputs": [],
   "source": []
  }
 ],
 "metadata": {
  "kernelspec": {
   "display_name": "Python 3",
   "language": "python",
   "name": "python3"
  },
  "language_info": {
   "codemirror_mode": {
    "name": "ipython",
    "version": 3
   },
   "file_extension": ".py",
   "mimetype": "text/x-python",
   "name": "python",
   "nbconvert_exporter": "python",
   "pygments_lexer": "ipython3",
   "version": "3.6.9"
  }
 },
 "nbformat": 4,
 "nbformat_minor": 4
}
