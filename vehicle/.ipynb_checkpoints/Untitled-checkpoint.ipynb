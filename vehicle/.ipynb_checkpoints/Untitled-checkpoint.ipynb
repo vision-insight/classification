{
 "cells": [
  {
   "cell_type": "code",
   "execution_count": 1,
   "metadata": {},
   "outputs": [],
   "source": [
    "import os\n",
    "import sys\n",
    "import  numpy as np\n",
    "from tqdm import tqdm\n",
    "# from data_prepare_old import *\n",
    "from sklearn.metrics import accuracy_score\n",
    "from sklearn.metrics import classification_report\n",
    "from torchvision import datasets, models, transforms\n",
    "\n",
    "import collections\n",
    "from torch import nn\n",
    "from pathlib import Path\n",
    "import PIL\n",
    "\n",
    "base_path = \"/data/lulei/classification\"\n",
    "sys.path.insert(0, base_path)\n",
    "from tools.metrics import *\n",
    "from tools.utils.utils import *\n",
    "from tools.utils.model_zoo import MODELS\n",
    "from tools.utils.torch_utils import *"
   ]
  },
  {
   "cell_type": "markdown",
   "metadata": {},
   "source": [
    "### 本脚本的目的：\n",
    "- 将训练集和测试集的图片均用于测试\n",
    "- 按照类别样本数的多少，取TOP-N和Bottom-N的类别用于测试\n",
    "- 测试并展示错误分类"
   ]
  },
  {
   "cell_type": "code",
   "execution_count": 2,
   "metadata": {},
   "outputs": [],
   "source": [
    "with open(\"./index_to_class.txt\", \"r\") as f:\n",
    "    index_to_class = eval(f.read())\n",
    "    \n",
    "\n",
    "def acquire_task(image_list, per_group_num = 80):\n",
    "    '''\n",
    "        image_list: list of the image paths\n",
    "        ratio: rough number of images for each group, subgroup num = total_num // ratio\n",
    "    '''\n",
    "    subgroups = list_split(image_list, per_group_num = per_group_num)\n",
    "    batch_list = []\n",
    "    for group in subgroups:\n",
    "        temp_batch = []\n",
    "        temp_labels = []\n",
    "        for path in group:\n",
    "            label = path.parts[-2]\n",
    "            image = trans(Image.open(path)).unsqueeze(0)\n",
    "            temp_batch.append(image)\n",
    "            temp_labels.append(label)\n",
    "        batch_list.append([temp_batch, temp_labels])\n",
    "    return batch_list\n",
    "\n",
    "def predict(model, image_set, per_group_num = 80):\n",
    "    model.eval()\n",
    "    y_true, y_pred = [], []\n",
    "    \n",
    "    batch_list = acquire_task(image_set, per_group_num = per_group_num)\n",
    "    \n",
    "    for batch, labels in tqdm(batch_list):\n",
    "        \n",
    "        y_true.extend(labels)\n",
    "        batch_input = torch.cat(batch,0)\n",
    "        \n",
    "        with torch.no_grad():\n",
    "            batch_out = model(batch_input.cuda(device = 0))\n",
    "            probs, pred_labels = torch.max(batch_out.data,1)\n",
    "            y_pred.extend([index_to_class[int(i)] for i in pred_labels.cpu()])\n",
    "            \n",
    "    return y_true, y_pred\n",
    "            \n",
    "            \n",
    "\n",
    "def performance(y_true, y_pred, title = \"TOP-N\"):\n",
    "    print(f\"{title} performance : \")\n",
    "    metrics = [overall_accuracy, overall_prec, mean_accuracy, mean_prec, mean_recall]\n",
    "    prefix  = [\"overall acc\", \"overall prec\", \"mean acc\", \"mean prec\", \"mean recall\"]\n",
    "    for describe, metric in zip(prefix, metrics):\n",
    "        print(f\"  {describe.ljust(15)} : {metric(y_true, y_pred):.4f}\")\n",
    "    "
   ]
  },
  {
   "cell_type": "markdown",
   "metadata": {},
   "source": [
    "- 测试集和训练集地址"
   ]
  },
  {
   "cell_type": "code",
   "execution_count": 3,
   "metadata": {},
   "outputs": [],
   "source": [
    "test_dir = \"/data/lulei/data/vehicle/frontal_103/split/test\"\n",
    "valid_dir = \"/data/lulei/data/vehicle/frontal_103/split/valid\""
   ]
  },
  {
   "cell_type": "markdown",
   "metadata": {},
   "source": [
    "- 获取所有图片，并按样本数量的多少对所有类别进行排序"
   ]
  },
  {
   "cell_type": "code",
   "execution_count": 15,
   "metadata": {},
   "outputs": [
    {
     "name": "stdout",
     "output_type": "stream",
     "text": [
      "[INFO] total image num : 32,711\n",
      "[INFO] class num : 1759\n"
     ]
    }
   ],
   "source": [
    "image_paths = [i for i in Path(test_dir).rglob(\"*.jpg\") ] + [i for i in Path(valid_dir).rglob(\"*.jpg\")]\n",
    "print(f\"[INFO] total image num : {len(image_paths):,}\")\n",
    "\n",
    "class_num = {}\n",
    "for i in image_paths:\n",
    "    label = i.parts[-2]\n",
    "    if label in class_num:\n",
    "        class_num[label] += 1\n",
    "    else:\n",
    "        class_num.update({label: 1})\n",
    "\n",
    "class_num = sorted(class_num.items(), key = lambda kv:(kv[1], int(kv[0])), reverse = True)\n",
    "\n",
    "print(f\"[INFO] class num : {len(class_num)}\")"
   ]
  },
  {
   "cell_type": "markdown",
   "metadata": {},
   "source": [
    "- 获取TOP-N和Bottom-N类别"
   ]
  },
  {
   "cell_type": "code",
   "execution_count": 12,
   "metadata": {},
   "outputs": [],
   "source": [
    "N = 2"
   ]
  },
  {
   "cell_type": "code",
   "execution_count": 13,
   "metadata": {},
   "outputs": [
    {
     "name": "stdout",
     "output_type": "stream",
     "text": [
      "[INFO] top 2 classes, image num : 430\n",
      "[INFO] bot 2 classes, image num : 8\n"
     ]
    }
   ],
   "source": [
    "top_n_classes = [i[0] for i in class_num[:N]]\n",
    "bot_n_classes = [i[0] for i in class_num[-N:]]\n",
    "\n",
    "print(top_n_classes,)\n",
    "print(bot_n_classes)\n",
    "\n",
    "\n",
    "top_n_images = [ i for i in image_paths if i.parts[-2] in top_n_classes]\n",
    "bot_n_images = [ i for i in image_paths if i.parts[-2] in bot_n_classes]\n",
    "print(f\"[INFO] top {N} classes, image num : {len(top_n_images)}\")\n",
    "print(f\"[INFO] bot {N} classes, image num : {len(bot_n_images)}\")"
   ]
  },
  {
   "cell_type": "markdown",
   "metadata": {},
   "source": [
    "- 选择并加载神经网络模型"
   ]
  },
  {
   "cell_type": "code",
   "execution_count": 6,
   "metadata": {},
   "outputs": [
    {
     "name": "stdout",
     "output_type": "stream",
     "text": [
      "[INFO] weight files : \n",
      "  [0] vehicle_resnet50_0.9182_49_best_20191224_142352.pth\n",
      "  [1] vehicle_resnet18_0.9017_26_best_20191224_124247.pth\n",
      "  [2] vehicle_densenet121_0.9182_40_best_20191224_113211.pth\n",
      "  [3] vehicle_alexnet_0.8711_33_best_20191223_234904.pth\n",
      "  [4] vehicle_vgg16_0.9128_30_best_20191224_173140.pth\n",
      "  [5] vehicle_vgg19_0.9190_24_best_20191224_204329.pth\n"
     ]
    },
    {
     "name": "stdin",
     "output_type": "stream",
     "text": [
      "  your choice :  5\n"
     ]
    },
    {
     "name": "stdout",
     "output_type": "stream",
     "text": [
      "3\n"
     ]
    }
   ],
   "source": [
    "trans = transforms.Compose([transforms.Resize((227, 227), interpolation=PIL.Image.BICUBIC),\n",
    "                            transforms.ToTensor()])\n",
    "\n",
    "\n",
    "weight_files = [i for i in pathlib.Path(\"./output_models\").rglob(\"*.pth\")]\n",
    "print(f\"[INFO] weight files : \")\n",
    "for index, weight_file in enumerate(weight_files):\n",
    "    print(f\"  [{index}] {weight_file.name}\")\n",
    "weight_file = weight_files[int(input(\"  your choice : \"))]\n",
    "\n",
    "network = os.path.basename(weight_file).split(\"_\")[1]\n",
    "\n",
    "# networks = [\"alexnet\", \"densenet121\", \"resnet18\", \"resnet34\", \"resnet50\", \"vgg16\", \"vgg19\"]\n",
    "\n",
    "model_struc = eval(f\"MODELS(class_num = 1759, with_wts = False).{network}()\")\n",
    "model = load_model_from_wts(model_struc, weight_file, gpu_id = [0,1])\n"
   ]
  },
  {
   "cell_type": "code",
   "execution_count": 7,
   "metadata": {},
   "outputs": [
    {
     "name": "stderr",
     "output_type": "stream",
     "text": [
      "100%|██████████| 43/43 [00:07<00:00,  5.41it/s]"
     ]
    },
    {
     "name": "stdout",
     "output_type": "stream",
     "text": [
      "TOP-N performance : \n",
      "  overall acc     : 0.9140\n",
      "  overall prec    : 0.9140\n",
      "  mean acc        : 0.9212\n",
      "  mean prec       : 0.1667\n",
      "  mean recall     : 0.1535\n"
     ]
    },
    {
     "name": "stderr",
     "output_type": "stream",
     "text": [
      "\n",
      "/usr/local/lib/python3.6/dist-packages/sklearn/metrics/_classification.py:1221: UndefinedMetricWarning: Recall is ill-defined and being set to 0.0 in labels with no true samples. Use `zero_division` parameter to control this behavior.\n",
      "  _warn_prf(average, modifier, msg_start, len(result))\n"
     ]
    }
   ],
   "source": [
    "y_true, y_pred = predict(model, top_n_images, per_group_num = 10)\n",
    "performance(y_true, y_pred, title = \"TOP-N\")"
   ]
  },
  {
   "cell_type": "code",
   "execution_count": 8,
   "metadata": {},
   "outputs": [
    {
     "name": "stderr",
     "output_type": "stream",
     "text": [
      "100%|██████████| 4/4 [00:00<00:00,  9.38it/s]"
     ]
    },
    {
     "name": "stdout",
     "output_type": "stream",
     "text": [
      "BOT-N performance : \n",
      "  overall acc     : 1.0000\n",
      "  overall prec    : 1.0000\n",
      "  mean acc        : 1.0000\n",
      "  mean prec       : 1.0000\n",
      "  mean recall     : 1.0000\n"
     ]
    },
    {
     "name": "stderr",
     "output_type": "stream",
     "text": [
      "\n"
     ]
    }
   ],
   "source": [
    "y_true, y_pred = predict(model, bot_n_images, per_group_num = 2)\n",
    "performance(y_true, y_pred, title = \"BOT-N\")"
   ]
  },
  {
   "cell_type": "code",
   "execution_count": null,
   "metadata": {},
   "outputs": [],
   "source": []
  },
  {
   "cell_type": "code",
   "execution_count": null,
   "metadata": {},
   "outputs": [],
   "source": []
  }
 ],
 "metadata": {
  "kernelspec": {
   "display_name": "Python 3",
   "language": "python",
   "name": "python3"
  },
  "language_info": {
   "codemirror_mode": {
    "name": "ipython",
    "version": 3
   },
   "file_extension": ".py",
   "mimetype": "text/x-python",
   "name": "python",
   "nbconvert_exporter": "python",
   "pygments_lexer": "ipython3",
   "version": "3.6.9"
  }
 },
 "nbformat": 4,
 "nbformat_minor": 4
}
