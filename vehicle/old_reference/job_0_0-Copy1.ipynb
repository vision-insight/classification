{
 "cells": [
  {
   "cell_type": "code",
   "execution_count": 1,
   "metadata": {},
   "outputs": [
    {
     "name": "stdout",
     "output_type": "stream",
     "text": [
      "Current Time : Tue Apr 10 18:22:26 2018\n"
     ]
    }
   ],
   "source": [
    "%run ../common_func.ipynb\n",
    "%run  ../../../LIB/lib.ipynb\n",
    "dict_lp = load_json(r'../lp_pointset.json')"
   ]
  },
  {
   "cell_type": "code",
   "execution_count": 2,
   "metadata": {},
   "outputs": [],
   "source": [
    "%store -r file_group_10"
   ]
  },
  {
   "cell_type": "code",
   "execution_count": 3,
   "metadata": {},
   "outputs": [],
   "source": [
    "all_files = file_group_10[1]"
   ]
  },
  {
   "cell_type": "code",
   "execution_count": 4,
   "metadata": {},
   "outputs": [
    {
     "name": "stdout",
     "output_type": "stream",
     "text": [
      "\n",
      "Wall time: 35min 19s\n"
     ]
    }
   ],
   "source": [
    "%%time\n",
    "dest_root_path = '../data/ROI/ALL/'\n",
    "for index, img_path in enumerate(tqdm(all_files)):\n",
    "    root_dir, filename, ext = path_split(img_path)\n",
    "    \n",
    "    class_name = os.path.basename(root_dir)\n",
    "#     year = os.path.basename(root_dir)\n",
    "#     model = os.path.basename(os.path.dirname(root_dir))\n",
    "#     make = os.path.basename(os.path.dirname(os.path.dirname(root_dir)))\n",
    "    filename = filename + ext\n",
    "    dest_path = os.path.join(dest_root_path, class_name, filename)    \n",
    "    \n",
    "    coord = dict_lp[os.path.normcase(filename)]\n",
    "    up_middle, angle, bbox = bound_box(coord)\n",
    "    img = imread(img_path, as_grey = False)\n",
    "    rotated_img = transform.rotate(img,angle = angle,center = up_middle[::-1])\n",
    "    ROI = rotated_img[bbox[2][1]:bbox[0][1],bbox[0][0]:bbox[1][0]]\n",
    "    imsave(dest_path,ROI)  \n",
    "    print (index)\n",
    "    clear_output()"
   ]
  },
  {
   "cell_type": "code",
   "execution_count": null,
   "metadata": {},
   "outputs": [],
   "source": []
  }
 ],
 "metadata": {
  "kernelspec": {
   "display_name": "Python 3",
   "language": "python",
   "name": "python3"
  },
  "language_info": {
   "codemirror_mode": {
    "name": "ipython",
    "version": 3
   },
   "file_extension": ".py",
   "mimetype": "text/x-python",
   "name": "python",
   "nbconvert_exporter": "python",
   "pygments_lexer": "ipython3",
   "version": "3.6.9"
  },
  "toc": {
   "nav_menu": {},
   "number_sections": true,
   "sideBar": true,
   "skip_h1_title": false,
   "title_cell": "Table of Contents",
   "title_sidebar": "Contents",
   "toc_cell": false,
   "toc_position": {},
   "toc_section_display": true,
   "toc_window_display": false
  }
 },
 "nbformat": 4,
 "nbformat_minor": 4
}
