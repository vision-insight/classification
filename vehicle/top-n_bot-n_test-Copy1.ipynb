{
 "cells": [
  {
   "cell_type": "markdown",
   "metadata": {},
   "source": [
    "### 本脚本的目的: top/bottom N classes 测试\n",
    "\n",
    "- 将训练集和测试集的图片均用于测试\n",
    "- 按照类别样本数的多少，取TOP-N和Bottom-N的类别用于测试\n"
   ]
  },
  {
   "cell_type": "code",
   "execution_count": 1,
   "metadata": {},
   "outputs": [],
   "source": [
    "%run lib.ipynb"
   ]
  },
  {
   "cell_type": "markdown",
   "metadata": {},
   "source": [
    "- 测试集和训练集地址"
   ]
  },
  {
   "cell_type": "code",
   "execution_count": 2,
   "metadata": {},
   "outputs": [],
   "source": [
    "test_dir = \"/data/lulei/data/vehicle/frontal_103/split/test\"\n",
    "# valid_dir = \"/data/lulei/data/vehicle/frontal_103/split/valid\""
   ]
  },
  {
   "cell_type": "markdown",
   "metadata": {},
   "source": [
    "- 获取所有图片，并按样本数量的多少对所有类别进行排序"
   ]
  },
  {
   "cell_type": "code",
   "execution_count": 3,
   "metadata": {},
   "outputs": [
    {
     "name": "stdout",
     "output_type": "stream",
     "text": [
      "[INFO] total image num : 26,150\n",
      "[INFO] class num : 1,759\n"
     ]
    }
   ],
   "source": [
    "image_paths = [i for i in Path(test_dir).rglob(\"*.jpg\") ] #+ [i for i in Path(valid_dir).rglob(\"*.jpg\")]\n",
    "print(f\"[INFO] total image num : {len(image_paths):,}\")\n",
    "\n",
    "class_num = {}\n",
    "for i in image_paths:\n",
    "    label = i.parts[-2]\n",
    "    if label in class_num:\n",
    "        class_num[label] += 1\n",
    "    else:\n",
    "        class_num.update({label: 1})\n",
    "\n",
    "class_num = sorted(class_num.items(), key = lambda kv:(kv[1], int(kv[0])), reverse = True)\n",
    "\n",
    "print(f\"[INFO] class num : {len(class_num):,}\")"
   ]
  },
  {
   "cell_type": "markdown",
   "metadata": {},
   "source": [
    "- 获取TOP-N和Bottom-N类别"
   ]
  },
  {
   "cell_type": "code",
   "execution_count": 4,
   "metadata": {},
   "outputs": [],
   "source": [
    "N = 1759"
   ]
  },
  {
   "cell_type": "code",
   "execution_count": 5,
   "metadata": {},
   "outputs": [
    {
     "name": "stdout",
     "output_type": "stream",
     "text": [
      "[INFO] top 10 classes, image num : 1273\n",
      "[INFO] top 10 classes, image num : 90\n",
      "[INFO] bot 10 classes, image num : 30\n"
     ]
    }
   ],
   "source": [
    "top_n_classes = [i[0] for i in class_num[:N]]\n",
    "mid_n_classes = [i[0] for i in class_num[len(class_num)//2: len(class_num)//2+N]]\n",
    "bot_n_classes = [i[0] for i in class_num[-N:]]\n",
    "\n",
    "top_n_images = [ i for i in image_paths if i.parts[-2] in top_n_classes]\n",
    "mid_n_images = [ i for i in image_paths if i.parts[-2] in mid_n_classes]  \n",
    "bot_n_images = [ i for i in image_paths if i.parts[-2] in bot_n_classes]\n",
    "\n",
    "# print(top_n_classes)\n",
    "# print(bot_n_classes)\n",
    "\n",
    "print(f\"[INFO] top {N} classes, image num : {len(top_n_images)}\")\n",
    "print(f\"[INFO] top {N} classes, image num : {len(mid_n_images)}\")\n",
    "print(f\"[INFO] bot {N} classes, image num : {len(bot_n_images)}\")"
   ]
  },
  {
   "cell_type": "markdown",
   "metadata": {},
   "source": [
    "- 选择并加载神经网络模型"
   ]
  },
  {
   "cell_type": "code",
   "execution_count": 6,
   "metadata": {},
   "outputs": [
    {
     "name": "stdout",
     "output_type": "stream",
     "text": [
      "[INFO] weight files : \n",
      "  [0] vehicle_resnet50_0.9182_49_best_20191224_142352.pth\n",
      "  [1] vehicle_resnet18_0.9017_26_best_20191224_124247.pth\n",
      "  [2] vehicle_densenet121_0.9182_40_best_20191224_113211.pth\n",
      "  [3] vehicle_alexnet_0.8711_33_best_20191223_234904.pth\n",
      "  [4] vehicle_vgg16_0.9128_30_best_20191224_173140.pth\n",
      "  [5] vehicle_vgg19_0.9190_24_best_20191224_204329.pth\n"
     ]
    },
    {
     "name": "stdin",
     "output_type": "stream",
     "text": [
      "  your choice :  3\n"
     ]
    },
    {
     "name": "stdout",
     "output_type": "stream",
     "text": [
      "3\n"
     ]
    }
   ],
   "source": [
    "weight_files = [i for i in pathlib.Path(\"./output_models\").rglob(\"*.pth\")]\n",
    "print(f\"[INFO] weight files : \")\n",
    "\n",
    "for index, weight_file in enumerate(weight_files):\n",
    "    print(f\"  [{index}] {weight_file.name}\")\n",
    "weight_file = weight_files[int(input(\"  your choice : \"))]\n",
    "\n",
    "network = os.path.basename(weight_file).split(\"_\")[1]\n",
    "\n",
    "# networks = [\"alexnet\", \"densenet121\", \"resnet18\", \"resnet34\", \"resnet50\", \"vgg16\", \"vgg19\"]\n",
    "\n",
    "model_struc = eval(f\"MODELS(class_num = 1759, with_wts = False).{network}()\")\n",
    "model = load_model_from_wts(model_struc, weight_file, gpu_id = [0,1])"
   ]
  },
  {
   "cell_type": "code",
   "execution_count": 8,
   "metadata": {},
   "outputs": [
    {
     "name": "stderr",
     "output_type": "stream",
     "text": [
      "100%|██████████| 5/5 [00:03<00:00,  1.59it/s]"
     ]
    },
    {
     "name": "stdout",
     "output_type": "stream",
     "text": [
      "TOP-N performance : \n",
      "  overall acc     : 0.9333\n",
      "  mean acc        : 0.9933\n",
      "  mean prec       : 1.0000\n",
      "  mean recall     : 0.9333\n"
     ]
    },
    {
     "name": "stderr",
     "output_type": "stream",
     "text": [
      "\n"
     ]
    }
   ],
   "source": [
    "y_true, y_pred = batch_predict(model, mid_n_images, per_group_num = 20)\n",
    "performance(y_true, y_pred, title = \"TOP-N\")"
   ]
  },
  {
   "cell_type": "code",
   "execution_count": 9,
   "metadata": {},
   "outputs": [
    {
     "name": "stderr",
     "output_type": "stream",
     "text": [
      "100%|██████████| 128/128 [00:06<00:00, 20.36it/s]"
     ]
    },
    {
     "name": "stdout",
     "output_type": "stream",
     "text": [
      "TOP-N performance : \n",
      "  overall acc     : 0.9010\n",
      "  mean acc        : 0.9896\n",
      "  mean prec       : 0.9939\n",
      "  mean recall     : 0.9082\n"
     ]
    },
    {
     "name": "stderr",
     "output_type": "stream",
     "text": [
      "\n"
     ]
    }
   ],
   "source": [
    "y_true, y_pred = batch_predict(model, top_n_images, per_group_num = 10)\n",
    "performance(y_true, y_pred, title = \"TOP-N\")"
   ]
  },
  {
   "cell_type": "code",
   "execution_count": 10,
   "metadata": {},
   "outputs": [
    {
     "name": "stderr",
     "output_type": "stream",
     "text": [
      "100%|██████████| 6/6 [00:00<00:00, 20.76it/s]"
     ]
    },
    {
     "name": "stdout",
     "output_type": "stream",
     "text": [
      "BOT-N performance : \n",
      "  overall acc     : 0.9000\n",
      "  mean acc        : 0.9900\n",
      "  mean prec       : 1.0000\n",
      "  mean recall     : 0.9000\n"
     ]
    },
    {
     "name": "stderr",
     "output_type": "stream",
     "text": [
      "\n"
     ]
    }
   ],
   "source": [
    "y_true, y_pred = batch_predict(model, bot_n_images, per_group_num = 5)\n",
    "performance(y_true, y_pred, title = \"BOT-N\")"
   ]
  },
  {
   "cell_type": "code",
   "execution_count": 11,
   "metadata": {},
   "outputs": [
    {
     "name": "stdout",
     "output_type": "stream",
     "text": [
      "['44', '44', '44', '67', '67', '67', '3', '3', '3', '153', '153', '153', '68', '68', '68', '2', '2', '2', '39', '39', '39', '25', '25', '25', '78', '78', '78', '30', '30', '30'] ['44', '44', '44', '67', '67', '67', '3', '3', '3', '153', '153', '153', '68', '68', '68', '2', '2', '655', '39', '39', '39', '25', '25', '25', '78', '1194', '78', '30', '30', '1250']\n"
     ]
    }
   ],
   "source": [
    "print(y_true, y_pred)"
   ]
  },
  {
   "cell_type": "code",
   "execution_count": null,
   "metadata": {},
   "outputs": [],
   "source": []
  }
 ],
 "metadata": {
  "kernelspec": {
   "display_name": "Python 3",
   "language": "python",
   "name": "python3"
  },
  "language_info": {
   "codemirror_mode": {
    "name": "ipython",
    "version": 3
   },
   "file_extension": ".py",
   "mimetype": "text/x-python",
   "name": "python",
   "nbconvert_exporter": "python",
   "pygments_lexer": "ipython3",
   "version": "3.6.9"
  }
 },
 "nbformat": 4,
 "nbformat_minor": 4
}
